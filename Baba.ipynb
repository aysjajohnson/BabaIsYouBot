{
 "cells": [
  {
   "cell_type": "markdown",
   "metadata": {},
   "source": [
    "## Baba is You"
   ]
  },
  {
   "cell_type": "markdown",
   "metadata": {},
   "source": [
    "You are usually controlling baba, a sheep. You are allowed to do anything specified by the rules, and you win if there is a win rule and you reach the win object specified by the win rule."
   ]
  },
  {
   "cell_type": "markdown",
   "metadata": {},
   "source": [
    "For instance, in the following game set-up you are baba, as defined by the rule 'baba is you', the wall is stop (meaning you can't move it) and nothing is currently set to the win object, but it could be if you move the text objects around to create it. Everything is moveable except for the wall objects.  "
   ]
  },
  {
   "cell_type": "markdown",
   "metadata": {},
   "source": [
    "<img src=\"babaExample.png\" style=\"width: 700px; height: 500px;\">"
   ]
  },
  {
   "cell_type": "code",
   "execution_count": 109,
   "metadata": {},
   "outputs": [],
   "source": [
    "import numpy as np\n",
    "import matplotlib.pyplot as plt\n",
    "import copy"
   ]
  },
  {
   "cell_type": "markdown",
   "metadata": {},
   "source": [
    "Pro tip: alt + enter exits full screen on steam"
   ]
  },
  {
   "cell_type": "markdown",
   "metadata": {},
   "source": [
    "### Stages"
   ]
  },
  {
   "cell_type": "markdown",
   "metadata": {},
   "source": [
    "Caps represent text, lowercase is object"
   ]
  },
  {
   "cell_type": "code",
   "execution_count": 279,
   "metadata": {},
   "outputs": [],
   "source": [
    "stage2 = np.array([['0','0','0','0','0','0','0','0','0','0','0','0','0','0','0','0','0','0','0','0','0','0','0','0','0','0','0','0','0','0'],\\\n",
    "['0','0','0','0','0','0','0','0','0','0','0','0','0','0','0','0','0','0','0','0','0','0','0','0','0','0','0','0','0','0'],\\\n",
    "['0','0','0','0','0','0','0','0','0','0','0','0','0','0','flag','flag','flag','flag','flag','flag','flag','flag','0','0','0','0','0','0','0','0'],\\\n",
    "['0','0','0','0','0','0','0','0','0','0','0','0','0','0','flag','0','0','0','0','0','0','flag','0','0','0','0','0','0','0','0'],\\\n",
    "['0','0','0','0','0','0','0','0','0','0','0','0','0','0','flag','0','is','0','0','0','0','flag','0','0','0','0','0','0','0','0'],\\\n",
    "['0','0','0','0','0','0','0','0','0','0','0','0','0','0','flag','0','0','0','0','0','0','flag','0','0','0','0','0','0','0','0'],\\\n",
    "['0','0','0','0','0','0','0','0','0','0','flag','flag','flag','flag','flag','0','0','0','0','win','0','flag','0','0','0','0','0','0','0','0'],\\\n",
    "['0','0','0','0','0','0','0','0','0','0','flag','0','0','0','0','0','0','0','0','0','0','flag','0','0','0','0','0','0','0','0'],\n",
    "['0','0','0','0','0','0','0','0','0','0','flag','0','baba','0','0','0','0','0','0','0','0','flag','0','0','0','0','0','0','0','0'],\\\n",
    "['0','0','0','0','0','0','0','0','0','0','flag','0','0','0','0','0','0','0','0','0','0','flag','0','0','0','0','0','0','0','0'],\\\n",
    "['0','0','0','0','0','0','0','0','0','0','flag','flag','flag','flag','flag','flag','flag','flag','flag','flag','flag','flag','0','0','0','0','0','0','0','0'],\\\n",
    "['0','0','0','0','0','0','0','0','0','0','0','0','0','0','flag','0','0','0','0','0','0','flag','0','0','0','0','0','0','0','0'],\\\n",
    "['0','0','0','0','0','0','0','0','0','0','0','WALL','0','0','flag','0','FLAG','0','0','0','0','flag','0','0','0','0','0','0','0','0'],\\\n",
    "['0','0','0','0','0','0','0','0','0','0','0','IS','0','0','flag','0','IS','0','0','wall','0','flag','0','0','0','0','0','0','0','0'],\\\n",
    "['0','0','0','0','0','0','0','0','0','0','0','YOU','0','0','flag','0','STOP','0','0','0','0','flag','0','0','0','0','0','0','0','0'],\\\n",
    "['0','0','0','0','0','0','0','0','0','0','0','0','0','0','flag','0','0','0','flag','flag','flag','flag','0','0','0','0','0','0','0','0'],\\\n",
    "['0','0','0','0','0','0','0','0','0','0','0','0','0','0','flag','flag','flag','flag','flag','0','0','0','0','0','0','0','0','0','0','0'],\\\n",
    "['0','0','0','0','0','0','0','0','0','0','0','0','0','0','0','0','0','0','0','0','0','0','0','0','0','0','0','0','0','0']])\n"
   ]
  },
  {
   "cell_type": "markdown",
   "metadata": {},
   "source": [
    "### Parameters and static objects"
   ]
  },
  {
   "cell_type": "markdown",
   "metadata": {},
   "source": [
    "Directions: 0 is up, 1 is right, 2 is down, 3 is left"
   ]
  },
  {
   "cell_type": "code",
   "execution_count": 385,
   "metadata": {},
   "outputs": [],
   "source": [
    "allObjectText = ['WALL','FLAG','ROCK','BABA']\n",
    "allCommandText = ['YOU', 'STOP','WIN']\n",
    "isText = ['IS']\n",
    "allText = allObjectText + allCommandText + isText\n",
    "allObjects = ['flag', 'wall', 'baba','rock']\n",
    "allItems = allText + allObjects\n",
    "reward = 10"
   ]
  },
  {
   "cell_type": "markdown",
   "metadata": {},
   "source": [
    "### Updating the board"
   ]
  },
  {
   "cell_type": "markdown",
   "metadata": {},
   "source": [
    "Fixes and tests to update board:\n",
    "- The function will currently not work correctly if one agent is stacked on another (in some cases). It should update the board so that they both move up one space, but right now it will do that only if you iterate through the agents in the right way, but it might not if you start with the bottom one. Instead it would push them both up by one then when it gets to the top one, also move that up by one so they'd be spaced one apart\n",
    "    I think one way to fix is this is in the updateBoard function -- make sure you go through agents in order\n",
    "- Currently the only agents this considers are the 'yous', I need to introduce other types of agents like 'MOVE' and 'keke'"
   ]
  },
  {
   "cell_type": "code",
   "execution_count": 11,
   "metadata": {},
   "outputs": [],
   "source": [
    "def coordinates(whereArray):\n",
    "    \"\"\"returns x,y coordinates given a numpy object\"\"\"\n",
    "    array = []\n",
    "    for i in range(len(whereArray[0])):\n",
    "        array.append([whereArray[0][i],whereArray[1][i]])\n",
    "    return array"
   ]
  },
  {
   "cell_type": "code",
   "execution_count": 12,
   "metadata": {},
   "outputs": [],
   "source": [
    "def findObject(obj, board):\n",
    "    \"\"\"returns a list of coordinates given an object name\"\"\"\n",
    "    objects = np.where(board==obj)\n",
    "    return coordinates(objects)"
   ]
  },
  {
   "cell_type": "code",
   "execution_count": 124,
   "metadata": {},
   "outputs": [],
   "source": [
    "def findYou(board):\n",
    "    \"\"\"returns the coordinates of where the agents are\"\"\"\n",
    "    # need to figure out what to do if there are no yous, or if an agent isn't you (like a keese?) -- will keep updating as I go through the levels\n",
    "    YOU = np.where(board=='YOU')\n",
    "    YOU = coordinates(YOU)\n",
    "    yous = []\n",
    "    you_coords = []\n",
    "\n",
    "    for you in YOU:\n",
    "    # determining if the top represents a you\n",
    "        if board[you[0]-2][you[1]] in allObjectText and board[you[0]-1][you[1]] == 'IS':\n",
    "            yous.append(board[you[0]-2][you[1]])\n",
    "        # determining if the left hand side represents a you\n",
    "        elif board[you[0]][you[1]-2] in allObjectText and board[you[0]][you[1]-1] == 'IS':\n",
    "            yous.append(board[you[0]-2][you[1]])\n",
    "    for you in yous:\n",
    "        for objs in findObject(you.lower(),board):\n",
    "            you_coords.append(objs)\n",
    "            \n",
    "    return you_coords"
   ]
  },
  {
   "cell_type": "code",
   "execution_count": 53,
   "metadata": {},
   "outputs": [],
   "source": [
    "def rules(board):\n",
    "    \"\"\"returns a list of lists, each list is a list of strings which represent a rule\"\"\"\n",
    "    IS = np.where(board=='IS')\n",
    "    IS = coordinates(IS)\n",
    "    rules = []\n",
    "\n",
    "    for rule in IS:\n",
    "    # determing if the top is a rule\n",
    "        if board[rule[0]-1][rule[1]] in allObjectText and board[rule[0]+1][rule[1]] in allCommandText:\n",
    "            rules.append([board[rule[0]-1][rule[1]],'IS',board[rule[0]+1][rule[1]]])\n",
    "        # determining if the left hand side represents a IS\n",
    "        elif board[rule[0]][rule[1]-1] in allObjectText and board[rule[0]][rule[1]+1] in allCommandText:\n",
    "            rules.append([board[rule[0]][rule[1]-1],'IS',board[rule[0]][rule[1]+1]])\n",
    "    return rules"
   ]
  },
  {
   "cell_type": "code",
   "execution_count": 286,
   "metadata": {},
   "outputs": [],
   "source": [
    "def unMoveables(board):\n",
    "    \"\"\"returns a list of all the unmoveable objects on the grid, i.e., those that are stopped\"\"\"\n",
    "    objs = []\n",
    "    for rule in rules(board):\n",
    "        if 'STOP' in rule:\n",
    "            objs.append(rule[0].lower())\n",
    "    return objs"
   ]
  },
  {
   "cell_type": "code",
   "execution_count": 337,
   "metadata": {},
   "outputs": [],
   "source": [
    "def gridDim(board):\n",
    "    \"\"\"returns height, and width\"\"\"\n",
    "    return len(board[:][0]) - 1, len(board[0][:]) - 1"
   ]
  },
  {
   "cell_type": "code",
   "execution_count": 338,
   "metadata": {},
   "outputs": [],
   "source": [
    "def step(board, agent, direction):\n",
    "    \"\"\"given an agent, board, and direction, returns a move given that there is nothing blocking you\"\"\"\n",
    "    height, width = gridDim(board) \n",
    "    if direction == 0:\n",
    "        if agent[0] == 0:\n",
    "            return None\n",
    "        return [agent[0]-1, agent[1]]\n",
    "    if direction == 1:\n",
    "        if agent[1] == width:\n",
    "            return None\n",
    "        return [agent[0], agent[1]+1]\n",
    "    if direction == 2:\n",
    "        if agent[0] == height:\n",
    "            return None\n",
    "        return [agent[0]+1, agent[1]]\n",
    "    if direction == 3:\n",
    "        if agent[1] == 0:\n",
    "            return None\n",
    "        return [agent[0],agent[1]-1]"
   ]
  },
  {
   "cell_type": "code",
   "execution_count": 253,
   "metadata": {},
   "outputs": [],
   "source": [
    "def moveNoObjects(board, agent_coords, move_coords, agent_text):\n",
    "    \"\"\"returns an updated board given no objects in the direction of movement\"\"\"\n",
    "    new_board = copy.deepcopy(board)\n",
    "    new_board[move_coords[0]][move_coords[1]] = agent_text\n",
    "    new_board[agent_coords[0]][agent_coords[1]] = str(0)\n",
    "    return new_board"
   ]
  },
  {
   "cell_type": "code",
   "execution_count": 387,
   "metadata": {},
   "outputs": [],
   "source": [
    "def moveObjects(board, agent_coords, direction):\n",
    "    \"\"\"returns an updated board given objects in the direction of movement\"\"\"\n",
    "    new_board = copy.deepcopy(board)\n",
    "    obstacles = []\n",
    "    height, width = gridDim(board)\n",
    "    \n",
    "    if direction == 0:\n",
    "        r = range(agent_coords[0])\n",
    "        obs = [[agent_coords[0]-(i+1),agent_coords[1]] for i in r]\n",
    "        old_coords = [[agent_coords[0]-i,agent_coords[1]] for i in r]\n",
    "    if direction == 1:\n",
    "        r = range(width - agent_coords[1])\n",
    "        obs = [[agent_coords[0],agent_coords[1]+(i+1)] for i in r]\n",
    "        old_coords = [[agent_coords[0],agent_coords[1]+i] for i in r]\n",
    "    if direction == 2:\n",
    "        r = range(height - agent_coords[0])\n",
    "        obs = [[agent_coords[0]+(i+1),agent_coords[1]] for i in r]\n",
    "        old_coords = [[agent_coords[0]+i,agent_coords[1]] for i in r]\n",
    "    if direction == 3:\n",
    "        r = range(agent_coords[1])\n",
    "        obs = [[agent_coords[0],agent_coords[1]-(i+1)] for i in r]\n",
    "        old_coords = [[agent_coords[0],agent_coords[1]-i] for i in r]\n",
    "    # check if they won, i.e., the object immediately next to them is a win object\n",
    "    if win(board,[obs[0][0],obs[0][1]]):\n",
    "        return reward\n",
    "    # creating a list of objects next to the agent\n",
    "    for ob in obs:\n",
    "        if board[ob[0]][ob[1]] in allItems:\n",
    "            obstacles.append(board[ob[0]][ob[1]])\n",
    "        # if the item above you is empty space, terminate the for loop\n",
    "        if board[ob[0]][ob[1]] == str(0):\n",
    "            break\n",
    "        # if objects stack to the edge of the grid, moving won't do anything\n",
    "        if (ob[0] == 0 and direction == 0) or (ob[1] == width and direction == 1) or \\\n",
    "        (ob[0]== height and direction == 2) or (ob[1] == 0 and direction == 3):\n",
    "            return new_board\n",
    "        \n",
    "    # if there's a match between the items above you and unmoveable objects, you don't move\n",
    "    if set(obstacles) & set(unMoveables(board)):\n",
    "        return new_board\n",
    "    \n",
    "    # if there isn't, update the board accordingly\n",
    "    else:\n",
    "        updateCoords = obs[:len(obstacles)+1]\n",
    "        oldCoords = old_coords[:len(obstacles)+1]\n",
    "        for ob in zip(updateCoords,oldCoords):\n",
    "            new, old = ob[0], ob[1]\n",
    "            new_board[new[0]][new[1]] = board[old[0]][old[1]]\n",
    "        new_board[agent_coords[0]][agent_coords[1]] = str(0)\n",
    "    return new_board"
   ]
  },
  {
   "cell_type": "code",
   "execution_count": 321,
   "metadata": {},
   "outputs": [],
   "source": [
    "def move(board, agent, direction):\n",
    "    \"\"\"updates the board to reflect a single agents movement (or nonmovement)\"\"\"\n",
    "    agent_text = board[agent[0]][agent[1]]\n",
    "    move_coords = step(board, agent, direction)\n",
    "    \n",
    "    # if you're at the edge you can't move\n",
    "    if move_coords is None:\n",
    "        return board\n",
    "    #and if there isn't anything beside you, you move one space\n",
    "    if board[move_coords[0]][move_coords[1]] == str(0):\n",
    "        new_board = moveNoObjects(board, agent, move_coords, agent_text)\n",
    "    # otherwise, you move objects when you move\n",
    "    else:\n",
    "        new_board = moveObjects(board, agent, direction)\n",
    "        \n",
    "    return new_board"
   ]
  },
  {
   "cell_type": "code",
   "execution_count": 349,
   "metadata": {},
   "outputs": [],
   "source": [
    "def agentOrder(agents, direction):\n",
    "    \"\"\" given a list of agent coordinates, returns a sorted list with the ones closest to the edges first \"\"\"\n",
    "    if direction == 0:\n",
    "        return sorted(agents, key=lambda x: x[0])\n",
    "    if direction == 1:\n",
    "        return sorted(agents, key=lambda x: x[1], reverse=True)\n",
    "    if direction == 2:\n",
    "        return sorted(agents, key=lambda x: x[0], reverse=True)\n",
    "    if direction == 3:\n",
    "        return sorted(agents, key=lambda x: x[1])"
   ]
  },
  {
   "cell_type": "code",
   "execution_count": 352,
   "metadata": {},
   "outputs": [],
   "source": [
    "def updateBoard(board, direction):\n",
    "    \"\"\"update board based on direction provided. Returns a numpy array\"\"\"\n",
    "    assert direction in {0,1,2,3}\n",
    "    new_board = copy.deepcopy(board)\n",
    "    agents = agentOrder(findYou(board), direction)\n",
    "    \n",
    "    \" moving up \"\n",
    "    if direction == 0:\n",
    "        for agent in agents:\n",
    "            new_board = move(new_board, agent, 0)\n",
    "        return new_board\n",
    "    \n",
    "    \" moving right \"\n",
    "    if direction == 1:\n",
    "        for agent in agents:\n",
    "            new_board = move(new_board, agent, 1)\n",
    "        return new_board\n",
    "    \n",
    "    \" moving down \"\n",
    "    if direction == 2:\n",
    "        for agent in agents:\n",
    "            new_board = move(new_board, agent, 2)\n",
    "        return new_board\n",
    "    \n",
    "    \" moving left \"\n",
    "    if direction == 3:\n",
    "        for agent in agents:\n",
    "            new_board = move(new_board, agent, 3)\n",
    "        return new_board"
   ]
  },
  {
   "cell_type": "code",
   "execution_count": 388,
   "metadata": {},
   "outputs": [],
   "source": [
    "def win(board, agent_coords):\n",
    "    \"\"\"given a board and coordinates, win returns true if the board at those coordinates is a winning object\n",
    "    and false otherwise\"\"\"\n",
    "    win = None\n",
    "    for rule in rules(board):\n",
    "        if 'WIN' in rule: \n",
    "            win = rule[0].lower()\n",
    "    if win != None:\n",
    "        if board[agent_coords[0]][agent_coords[1]] == win:\n",
    "            return True\n",
    "        else:\n",
    "            return False\n",
    "    return False"
   ]
  },
  {
   "cell_type": "code",
   "execution_count": 366,
   "metadata": {},
   "outputs": [
    {
     "name": "stdout",
     "output_type": "stream",
     "text": [
      "[['BABA' '0' '0']\n",
      " ['IS' 'baba' '0']\n",
      " ['YOU' '0' '0']]\n",
      "[['BABA' 'baba' '0']\n",
      " ['IS' '0' '0']\n",
      " ['YOU' '0' '0']]\n"
     ]
    }
   ],
   "source": [
    "fakeStage = np.array([['BABA','0','0'],['IS','baba','0'],['YOU','0','0']])\n",
    "fakeStage2 = updateBoard(fakeStage,0)\n",
    "print(fakeStage)\n",
    "print(fakeStage2)"
   ]
  },
  {
   "cell_type": "code",
   "execution_count": 367,
   "metadata": {},
   "outputs": [
    {
     "name": "stdout",
     "output_type": "stream",
     "text": [
      "[['BABA' 'baba' '0']\n",
      " ['IS' '0' '0']\n",
      " ['YOU' '0' '0']]\n"
     ]
    }
   ],
   "source": [
    "fakeStage3 = updateBoard(fakeStage2,0)\n",
    "print(fakeStage3)"
   ]
  },
  {
   "cell_type": "code",
   "execution_count": 368,
   "metadata": {},
   "outputs": [
    {
     "name": "stdout",
     "output_type": "stream",
     "text": [
      "[['BABA' '0' '0']\n",
      " ['IS' '0' 'baba']\n",
      " ['YOU' '0' '0']]\n"
     ]
    }
   ],
   "source": [
    "fakeStage2 = updateBoard(fakeStage,1)\n",
    "print(fakeStage2)"
   ]
  },
  {
   "cell_type": "code",
   "execution_count": 379,
   "metadata": {},
   "outputs": [],
   "source": [
    "bigStage = np.array([['BABA','ROCK','0','0','0'],['IS', 'IS', 'rock','0','0'],['YOU','WIN','rock','rock','rock'],\\\n",
    "                    ['0','0','baba','0','0'],['0','0','flag','0','0']])"
   ]
  },
  {
   "cell_type": "code",
   "execution_count": 380,
   "metadata": {},
   "outputs": [
    {
     "name": "stdout",
     "output_type": "stream",
     "text": [
      "[['BABA' 'ROCK' '0' '0' '0']\n",
      " ['IS' 'IS' 'rock' '0' '0']\n",
      " ['YOU' 'WIN' 'rock' 'rock' 'rock']\n",
      " ['0' '0' 'baba' '0' '0']\n",
      " ['0' '0' 'flag' '0' '0']]\n"
     ]
    }
   ],
   "source": [
    "print(bigStage)"
   ]
  },
  {
   "cell_type": "code",
   "execution_count": 389,
   "metadata": {},
   "outputs": [
    {
     "name": "stdout",
     "output_type": "stream",
     "text": [
      "10\n"
     ]
    }
   ],
   "source": [
    "bigStage2 = updateBoard(bigStage, 0)\n",
    "print(bigStage2)"
   ]
  },
  {
   "cell_type": "code",
   "execution_count": 372,
   "metadata": {},
   "outputs": [
    {
     "name": "stdout",
     "output_type": "stream",
     "text": [
      "[['BABA' 'ROCK' '0' '0' '0']\n",
      " ['IS' 'IS' 'rock' '0' '0']\n",
      " ['YOU' 'STOP' 'rock' 'rock' 'rock']\n",
      " ['0' '0' 'baba' '0' '0']\n",
      " ['0' '0' 'flag' '0' '0']]\n"
     ]
    }
   ],
   "source": [
    "bigStage3 = updateBoard(bigStage2,2)\n",
    "print(bigStage3)"
   ]
  },
  {
   "cell_type": "code",
   "execution_count": 373,
   "metadata": {},
   "outputs": [
    {
     "name": "stdout",
     "output_type": "stream",
     "text": [
      "[['BABA' 'ROCK' '0' '0' '0']\n",
      " ['IS' 'IS' 'rock' '0' '0']\n",
      " ['YOU' 'STOP' 'rock' 'rock' 'rock']\n",
      " ['0' '0' 'baba' '0' '0']\n",
      " ['0' '0' 'flag' '0' '0']]\n"
     ]
    }
   ],
   "source": [
    "print(updateBoard(bigStage3,2))"
   ]
  },
  {
   "cell_type": "code",
   "execution_count": 374,
   "metadata": {},
   "outputs": [
    {
     "name": "stdout",
     "output_type": "stream",
     "text": [
      "[['WALL', 'IS', 'YOU'], ['FLAG', 'IS', 'STOP']]\n"
     ]
    }
   ],
   "source": [
    "print(rules(stage2))"
   ]
  },
  {
   "cell_type": "code",
   "execution_count": null,
   "metadata": {},
   "outputs": [],
   "source": []
  }
 ],
 "metadata": {
  "kernelspec": {
   "display_name": "Python 3",
   "language": "python",
   "name": "python3"
  },
  "language_info": {
   "codemirror_mode": {
    "name": "ipython",
    "version": 3
   },
   "file_extension": ".py",
   "mimetype": "text/x-python",
   "name": "python",
   "nbconvert_exporter": "python",
   "pygments_lexer": "ipython3",
   "version": "3.7.5"
  }
 },
 "nbformat": 4,
 "nbformat_minor": 2
}
