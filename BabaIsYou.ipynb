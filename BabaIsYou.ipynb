{
 "cells": [
  {
   "cell_type": "markdown",
   "metadata": {},
   "source": [
    "# Baba Is You Bot"
   ]
  },
  {
   "cell_type": "code",
   "execution_count": 1,
   "metadata": {},
   "outputs": [],
   "source": [
    "import pyautogui\n",
    "import time\n",
    "from Quartz import CGWindowListCopyWindowInfo, kCGWindowListOptionOnScreenOnly,kCGNullWindowID, kCGWindowListExcludeDesktopElements, CFArrayRef\n",
    "from PIL import Image\n",
    "from resizeimage import resizeimage\n",
    "import math\n",
    "import os\n",
    "import numpy as np"
   ]
  },
  {
   "cell_type": "code",
   "execution_count": 57,
   "metadata": {},
   "outputs": [],
   "source": [
    "screenWidth, screenHeight = pyautogui.size()\n",
    "# Monitor is either home or laptop\n",
    "monitor = 'home'"
   ]
  },
  {
   "cell_type": "code",
   "execution_count": 50,
   "metadata": {},
   "outputs": [],
   "source": [
    "# Getting a list of active windows \n",
    "windowList  = CGWindowListCopyWindowInfo(kCGWindowListOptionOnScreenOnly | kCGWindowListExcludeDesktopElements, kCGNullWindowID)"
   ]
  },
  {
   "cell_type": "code",
   "execution_count": 51,
   "metadata": {},
   "outputs": [],
   "source": [
    "# Getting the baba is you window bounds\n",
    "for window in windowList:\n",
    "    if window['kCGWindowName'] == 'Baba Is You':\n",
    "        windowBounds = window['kCGWindowBounds']"
   ]
  },
  {
   "cell_type": "code",
   "execution_count": 91,
   "metadata": {},
   "outputs": [],
   "source": [
    "# Getting position and size of Baba window for screenshot\n",
    "# For some inexplicable reason I have to multiply everything by 2\n",
    "# I need to subtract 45 in order to not include the top bar\n",
    "x = windowBounds['X']\n",
    "y = (windowBounds['Y']) + 45\n",
    "height = (windowBounds['Height']) - 45 \n",
    "width = windowBounds['Width']"
   ]
  },
  {
   "cell_type": "code",
   "execution_count": 80,
   "metadata": {},
   "outputs": [],
   "source": [
    "# Largest window bounds dictionary based on monitor, [height, width]\n",
    "scalingDict = {'laptop':[805*2,1440*2], 'home':[976*2,1920*2]}"
   ]
  },
  {
   "cell_type": "code",
   "execution_count": 92,
   "metadata": {},
   "outputs": [],
   "source": [
    "# making array of game state to later insert icons into\n",
    "gameArray = np.zeros([int(height),int(width)])"
   ]
  },
  {
   "cell_type": "code",
   "execution_count": 93,
   "metadata": {},
   "outputs": [],
   "source": [
    "# Making a dictionary of icons to ints\n",
    "iconDict = {\"Baba\":16, \"BabaText\":1, \"Rock\": 2, \"RockText\": 3, \"Flag\": 4, \"FlagText\": 5, \\\n",
    "\"IsText\": 6, \"PushText\": 7, \"YouText\": 8, \"WallText\": 9, \"WinText\": 10, \"StopText\": 11, \\\n",
    "\"WaterText\": 12, \"SinkText\": 13, \"Wall1\": 14, \"Wall2\": 15, \"Water\": 15}"
   ]
  },
  {
   "cell_type": "code",
   "execution_count": 94,
   "metadata": {},
   "outputs": [],
   "source": [
    "# scaling factors for icons (it seems like height changes as a function of width)\n",
    "# This is fairly hacky but it basically seems to work\n",
    "scaleW = width/scalingDict[monitor][1]\n",
    "scaleH = (height/scalingDict[monitor][0]) * scaleW"
   ]
  },
  {
   "cell_type": "code",
   "execution_count": 95,
   "metadata": {},
   "outputs": [],
   "source": [
    "if monitor =='home':\n",
    "    path = '/Users/personal/Desktop/BabaIsYou/IconsHome/'\n",
    "    directory = os.fsencode(path)\n",
    "else:\n",
    "    path = '/Users/personal/Desktop/BabaIsYou/IconsLaptop/'\n",
    "    directory = os.fsencode(path)"
   ]
  },
  {
   "cell_type": "code",
   "execution_count": 96,
   "metadata": {},
   "outputs": [],
   "source": [
    "def resizeIm(fn):\n",
    "    with open(path + fn, 'r+b') as f:\n",
    "        with Image.open(f) as image:\n",
    "            imW, imH = image.size\n",
    "            cover = resizeimage.resize_cover(image, [int(math.floor(imH*scaleH)), \\\n",
    "                int(math.floor(imW*scaleW))])\n",
    "    return(cover, imH*scaleH, imW*scaleW)"
   ]
  },
  {
   "cell_type": "code",
   "execution_count": 97,
   "metadata": {},
   "outputs": [],
   "source": [
    "# This finds all the instances of an icon within the game and adds them to an array\n",
    "# It attempts to not duplicate the same object by keeping a 10 pixel threshold around each icon\n",
    "def findInstances(pics):\n",
    "    firstPic = pics[0]\n",
    "    # For now, move to instances of icon to make sure the code is working\n",
    "    pyautogui.moveTo(firstPic.left/2, firstPic.top/2)\n",
    "    gameArray[math.ceil(firstPic.top/2),math.ceil(firstPic.left/2)] = int(iconDict[str.split(filename,'.')[0]])\n",
    "    for pic in pics[1:]:\n",
    "        if (pic.top >= firstPic.top + 10) or (pic.top <= firstPic.top - 10):\n",
    "            # Move mouse to instance\n",
    "            pyautogui.moveTo(pic.left/2, pic.top/2)\n",
    "            gameArray[math.ceil(pic.top/2),math.ceil(pic.left/2)] = int(iconDict[str.split(filename,'.')[0]])\n",
    "            firstPic = pic\n",
    "        else:\n",
    "            continue"
   ]
  },
  {
   "cell_type": "code",
   "execution_count": 98,
   "metadata": {},
   "outputs": [
    {
     "name": "stdout",
     "output_type": "stream",
     "text": [
      "Rock.png\n",
      "4.301090628201844 9.01796875\n",
      "1241.0 68.0 679.0 931.0\n"
     ]
    },
    {
     "ename": "IndexError",
     "evalue": "index 816 is out of bounds for axis 1 with size 679",
     "output_type": "error",
     "traceback": [
      "\u001b[0;31m---------------------------------------------------------------------------\u001b[0m",
      "\u001b[0;31mIndexError\u001b[0m                                Traceback (most recent call last)",
      "\u001b[0;32m<ipython-input-98-88a3c80a52fc>\u001b[0m in \u001b[0;36m<module>\u001b[0;34m\u001b[0m\n\u001b[1;32m     21\u001b[0m         \u001b[0;31m# Insert into array, if it's in the game\u001b[0m\u001b[0;34m\u001b[0m\u001b[0;34m\u001b[0m\u001b[0;34m\u001b[0m\u001b[0m\n\u001b[1;32m     22\u001b[0m         \u001b[0;32mif\u001b[0m \u001b[0mpics\u001b[0m\u001b[0;34m:\u001b[0m\u001b[0;34m\u001b[0m\u001b[0;34m\u001b[0m\u001b[0m\n\u001b[0;32m---> 23\u001b[0;31m             \u001b[0mfindInstances\u001b[0m\u001b[0;34m(\u001b[0m\u001b[0mpics\u001b[0m\u001b[0;34m)\u001b[0m\u001b[0;34m\u001b[0m\u001b[0;34m\u001b[0m\u001b[0m\n\u001b[0m\u001b[1;32m     24\u001b[0m     \u001b[0;32melse\u001b[0m\u001b[0;34m:\u001b[0m\u001b[0;34m\u001b[0m\u001b[0;34m\u001b[0m\u001b[0m\n\u001b[1;32m     25\u001b[0m         \u001b[0;32mcontinue\u001b[0m\u001b[0;34m\u001b[0m\u001b[0;34m\u001b[0m\u001b[0m\n",
      "\u001b[0;32m<ipython-input-97-e4787c1bfad2>\u001b[0m in \u001b[0;36mfindInstances\u001b[0;34m(pics)\u001b[0m\n\u001b[1;32m      5\u001b[0m     \u001b[0;31m# For now, move to instances of icon to make sure the code is working\u001b[0m\u001b[0;34m\u001b[0m\u001b[0;34m\u001b[0m\u001b[0;34m\u001b[0m\u001b[0m\n\u001b[1;32m      6\u001b[0m     \u001b[0mpyautogui\u001b[0m\u001b[0;34m.\u001b[0m\u001b[0mmoveTo\u001b[0m\u001b[0;34m(\u001b[0m\u001b[0mfirstPic\u001b[0m\u001b[0;34m.\u001b[0m\u001b[0mleft\u001b[0m\u001b[0;34m/\u001b[0m\u001b[0;36m2\u001b[0m\u001b[0;34m,\u001b[0m \u001b[0mfirstPic\u001b[0m\u001b[0;34m.\u001b[0m\u001b[0mtop\u001b[0m\u001b[0;34m/\u001b[0m\u001b[0;36m2\u001b[0m\u001b[0;34m)\u001b[0m\u001b[0;34m\u001b[0m\u001b[0;34m\u001b[0m\u001b[0m\n\u001b[0;32m----> 7\u001b[0;31m     \u001b[0mgameArray\u001b[0m\u001b[0;34m[\u001b[0m\u001b[0mmath\u001b[0m\u001b[0;34m.\u001b[0m\u001b[0mceil\u001b[0m\u001b[0;34m(\u001b[0m\u001b[0mfirstPic\u001b[0m\u001b[0;34m.\u001b[0m\u001b[0mtop\u001b[0m\u001b[0;34m/\u001b[0m\u001b[0;36m2\u001b[0m\u001b[0;34m)\u001b[0m\u001b[0;34m,\u001b[0m\u001b[0mmath\u001b[0m\u001b[0;34m.\u001b[0m\u001b[0mceil\u001b[0m\u001b[0;34m(\u001b[0m\u001b[0mfirstPic\u001b[0m\u001b[0;34m.\u001b[0m\u001b[0mleft\u001b[0m\u001b[0;34m/\u001b[0m\u001b[0;36m2\u001b[0m\u001b[0;34m)\u001b[0m\u001b[0;34m]\u001b[0m \u001b[0;34m=\u001b[0m \u001b[0mint\u001b[0m\u001b[0;34m(\u001b[0m\u001b[0miconDict\u001b[0m\u001b[0;34m[\u001b[0m\u001b[0mstr\u001b[0m\u001b[0;34m.\u001b[0m\u001b[0msplit\u001b[0m\u001b[0;34m(\u001b[0m\u001b[0mfilename\u001b[0m\u001b[0;34m,\u001b[0m\u001b[0;34m'.'\u001b[0m\u001b[0;34m)\u001b[0m\u001b[0;34m[\u001b[0m\u001b[0;36m0\u001b[0m\u001b[0;34m]\u001b[0m\u001b[0;34m]\u001b[0m\u001b[0;34m)\u001b[0m\u001b[0;34m\u001b[0m\u001b[0;34m\u001b[0m\u001b[0m\n\u001b[0m\u001b[1;32m      8\u001b[0m     \u001b[0;32mfor\u001b[0m \u001b[0mpic\u001b[0m \u001b[0;32min\u001b[0m \u001b[0mpics\u001b[0m\u001b[0;34m[\u001b[0m\u001b[0;36m1\u001b[0m\u001b[0;34m:\u001b[0m\u001b[0;34m]\u001b[0m\u001b[0;34m:\u001b[0m\u001b[0;34m\u001b[0m\u001b[0;34m\u001b[0m\u001b[0m\n\u001b[1;32m      9\u001b[0m         \u001b[0;32mif\u001b[0m \u001b[0;34m(\u001b[0m\u001b[0mpic\u001b[0m\u001b[0;34m.\u001b[0m\u001b[0mtop\u001b[0m \u001b[0;34m>=\u001b[0m \u001b[0mfirstPic\u001b[0m\u001b[0;34m.\u001b[0m\u001b[0mtop\u001b[0m \u001b[0;34m+\u001b[0m \u001b[0;36m10\u001b[0m\u001b[0;34m)\u001b[0m \u001b[0;32mor\u001b[0m \u001b[0;34m(\u001b[0m\u001b[0mpic\u001b[0m\u001b[0;34m.\u001b[0m\u001b[0mtop\u001b[0m \u001b[0;34m<=\u001b[0m \u001b[0mfirstPic\u001b[0m\u001b[0;34m.\u001b[0m\u001b[0mtop\u001b[0m \u001b[0;34m-\u001b[0m \u001b[0;36m10\u001b[0m\u001b[0;34m)\u001b[0m\u001b[0;34m:\u001b[0m\u001b[0;34m\u001b[0m\u001b[0;34m\u001b[0m\u001b[0m\n",
      "\u001b[0;31mIndexError\u001b[0m: index 816 is out of bounds for axis 1 with size 679"
     ]
    }
   ],
   "source": [
    "# Creating array of objects from game state\n",
    "time.sleep(2)\n",
    "for file in os.listdir(directory):\n",
    "    filename = os.fsdecode(file)\n",
    "    # Grab the image\n",
    "    if filename.endswith(\".png\"):\n",
    "        print(filename)\n",
    "        # Rescale\n",
    "        scaledIcon = resizeIm(filename)[0]\n",
    "        sizeH, sizeW = resizeIm(filename)[1:]\n",
    "        print(sizeH,sizeW)\n",
    "        print(x,y,width,height)\n",
    "        # Skipping these for now because it thinks the entire screen is an instance\n",
    "        if filename == 'Wall2.png' or filename == 'Wall1.png' or filename == 'Water.png':\n",
    "            continue\n",
    "        # Find in game\n",
    "        else:\n",
    "            pyautogui.moveTo(int(x), int(y))\n",
    "            pics = list(pyautogui.locateAllOnScreen(scaledIcon, confidence = 0.7, \\\n",
    "                region = (int(x), int(y), int(width), int(height)), grayscale=False))\n",
    "        # Insert into array, if it's in the game\n",
    "        if pics:\n",
    "            findInstances(pics)\n",
    "    else:\n",
    "        continue"
   ]
  },
  {
   "cell_type": "code",
   "execution_count": 31,
   "metadata": {},
   "outputs": [],
   "source": [
    "def moveIcon(icon,steps=0):\n",
    "    time.sleep(2)\n",
    "    babaLoc = np.argwhere(gameArray==iconDict['Baba'])\n",
    "    iconLoc = np.argwhere(gameArray==iconDict[icon])\n",
    "    moves = babaLoc-iconLoc\n",
    "    # need an if statement to handle whenever there isn't an icon\n",
    "    move = moves[0,:]\n",
    "    moveV = np.round_(move[0]/sizeH)\n",
    "    moveH = np.round_(move[1]/sizeW)\n",
    "    if moveV != 0.0:\n",
    "        for i in range(int(np.abs(moveV))+steps):\n",
    "            time.sleep(1)\n",
    "            if moveV*(-moveV) == moveV**2:\n",
    "                pyautogui.press('up')\n",
    "            else:\n",
    "                pyautogui.press('down')\n",
    "    if moveH != 0.0:\n",
    "        for i in range(int(np.abs(moveH))+steps):\n",
    "            time.sleep(1)\n",
    "            if moveH*(-moveH) == moveH**2:\n",
    "                pyautogui.press('left')\n",
    "            else:\n",
    "                print('should go right')\n",
    "                pyautogui.press('right')"
   ]
  },
  {
   "cell_type": "code",
   "execution_count": 32,
   "metadata": {},
   "outputs": [
    {
     "ename": "IndexError",
     "evalue": "index 0 is out of bounds for axis 0 with size 0",
     "output_type": "error",
     "traceback": [
      "\u001b[0;31m---------------------------------------------------------------------------\u001b[0m",
      "\u001b[0;31mIndexError\u001b[0m                                Traceback (most recent call last)",
      "\u001b[0;32m<ipython-input-32-2dad79a425dd>\u001b[0m in \u001b[0;36m<module>\u001b[0;34m\u001b[0m\n\u001b[0;32m----> 1\u001b[0;31m \u001b[0mmoveIcon\u001b[0m\u001b[0;34m(\u001b[0m\u001b[0;34m'Rock'\u001b[0m\u001b[0;34m,\u001b[0m \u001b[0msteps\u001b[0m\u001b[0;34m=\u001b[0m\u001b[0;36m1\u001b[0m\u001b[0;34m)\u001b[0m\u001b[0;34m\u001b[0m\u001b[0;34m\u001b[0m\u001b[0m\n\u001b[0m",
      "\u001b[0;32m<ipython-input-31-3ea2def14a7b>\u001b[0m in \u001b[0;36mmoveIcon\u001b[0;34m(icon, steps)\u001b[0m\n\u001b[1;32m      5\u001b[0m     \u001b[0mmoves\u001b[0m \u001b[0;34m=\u001b[0m \u001b[0mbabaLoc\u001b[0m\u001b[0;34m-\u001b[0m\u001b[0miconLoc\u001b[0m\u001b[0;34m\u001b[0m\u001b[0;34m\u001b[0m\u001b[0m\n\u001b[1;32m      6\u001b[0m     \u001b[0;31m# need an if statement to handle whenever there isn't an icon\u001b[0m\u001b[0;34m\u001b[0m\u001b[0;34m\u001b[0m\u001b[0;34m\u001b[0m\u001b[0m\n\u001b[0;32m----> 7\u001b[0;31m     \u001b[0mmove\u001b[0m \u001b[0;34m=\u001b[0m \u001b[0mmoves\u001b[0m\u001b[0;34m[\u001b[0m\u001b[0;36m0\u001b[0m\u001b[0;34m,\u001b[0m\u001b[0;34m:\u001b[0m\u001b[0;34m]\u001b[0m\u001b[0;34m\u001b[0m\u001b[0;34m\u001b[0m\u001b[0m\n\u001b[0m\u001b[1;32m      8\u001b[0m     \u001b[0mmoveV\u001b[0m \u001b[0;34m=\u001b[0m \u001b[0mnp\u001b[0m\u001b[0;34m.\u001b[0m\u001b[0mround_\u001b[0m\u001b[0;34m(\u001b[0m\u001b[0mmove\u001b[0m\u001b[0;34m[\u001b[0m\u001b[0;36m0\u001b[0m\u001b[0;34m]\u001b[0m\u001b[0;34m/\u001b[0m\u001b[0msizeH\u001b[0m\u001b[0;34m)\u001b[0m\u001b[0;34m\u001b[0m\u001b[0;34m\u001b[0m\u001b[0m\n\u001b[1;32m      9\u001b[0m     \u001b[0mmoveH\u001b[0m \u001b[0;34m=\u001b[0m \u001b[0mnp\u001b[0m\u001b[0;34m.\u001b[0m\u001b[0mround_\u001b[0m\u001b[0;34m(\u001b[0m\u001b[0mmove\u001b[0m\u001b[0;34m[\u001b[0m\u001b[0;36m1\u001b[0m\u001b[0;34m]\u001b[0m\u001b[0;34m/\u001b[0m\u001b[0msizeW\u001b[0m\u001b[0;34m)\u001b[0m\u001b[0;34m\u001b[0m\u001b[0;34m\u001b[0m\u001b[0m\n",
      "\u001b[0;31mIndexError\u001b[0m: index 0 is out of bounds for axis 0 with size 0"
     ]
    }
   ],
   "source": [
    "moveIcon('Rock', steps=1)"
   ]
  },
  {
   "cell_type": "code",
   "execution_count": null,
   "metadata": {},
   "outputs": [],
   "source": []
  }
 ],
 "metadata": {
  "kernelspec": {
   "display_name": "Python 3",
   "language": "python",
   "name": "python3"
  },
  "language_info": {
   "codemirror_mode": {
    "name": "ipython",
    "version": 3
   },
   "file_extension": ".py",
   "mimetype": "text/x-python",
   "name": "python",
   "nbconvert_exporter": "python",
   "pygments_lexer": "ipython3",
   "version": "3.7.4"
  }
 },
 "nbformat": 4,
 "nbformat_minor": 2
}
